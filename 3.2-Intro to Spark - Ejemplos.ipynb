{
 "cells": [
  {
   "cell_type": "markdown",
   "metadata": {},
   "source": [
    "# Intro to Spark\n",
    "Ejemplos prácticos\n",
    "---"
   ]
  },
  {
   "cell_type": "markdown",
   "metadata": {},
   "source": [
    "Crear una sesión de Spark"
   ]
  },
  {
   "cell_type": "code",
   "execution_count": 1,
   "metadata": {},
   "outputs": [],
   "source": [
    "### Con SparkSession\n",
    "from pyspark.sql import SparkSession\n",
    "\n",
    "# crear sesión\n",
    "\n",
    "spark = SparkSession \\\n",
    "        .builder \\\n",
    "        .appName(\"Python Spark SQL basic example\") \\\n",
    "        .config(\"local[*]\") \\\n",
    "        .getOrCreate()"
   ]
  },
  {
   "cell_type": "code",
   "execution_count": null,
   "metadata": {},
   "outputs": [],
   "source": [
    "## parar la sesión\n",
    "spark.stop()"
   ]
  },
  {
   "cell_type": "code",
   "execution_count": null,
   "metadata": {},
   "outputs": [],
   "source": [
    "## Con SparkContext y SQLContext\n",
    "from pyspark import SparkContext\n",
    "from pyspark import SQLContext\n",
    "\n",
    "## crear el contexto\n",
    "sc = SparkContext(\"local[*]\", \"pyspark_df\")\n",
    "ss = SQLContext(sc)\n"
   ]
  },
  {
   "cell_type": "code",
   "execution_count": null,
   "metadata": {},
   "outputs": [],
   "source": [
    "### parar el contexto\n",
    "sc.stop()"
   ]
  },
  {
   "cell_type": "markdown",
   "metadata": {},
   "source": [
    "---"
   ]
  },
  {
   "cell_type": "code",
   "execution_count": 2,
   "metadata": {},
   "outputs": [],
   "source": [
    "### Crear un Dataframe a partir de un csv\n",
    "dfs_flights = spark.read.option(\"inferSchema\", \"true\").option(\"header\", \"true\").csv('data/2015-summary.csv')"
   ]
  },
  {
   "cell_type": "code",
   "execution_count": 3,
   "metadata": {},
   "outputs": [
    {
     "name": "stdout",
     "output_type": "stream",
     "text": [
      "root\n",
      " |-- DEST_COUNTRY_NAME: string (nullable = true)\n",
      " |-- ORIGIN_COUNTRY_NAME: string (nullable = true)\n",
      " |-- count: integer (nullable = true)\n",
      "\n"
     ]
    }
   ],
   "source": [
    "### Inspeccionar el Dataframe\n",
    "dfs_flights.printSchema()"
   ]
  },
  {
   "cell_type": "code",
   "execution_count": 4,
   "metadata": {},
   "outputs": [],
   "source": [
    "## Renombrar la cplumna count\n",
    "\n",
    "dfs_flights = dfs_flights.withColumnRenamed('count', 'NumFlights')"
   ]
  },
  {
   "cell_type": "code",
   "execution_count": 5,
   "metadata": {},
   "outputs": [
    {
     "name": "stdout",
     "output_type": "stream",
     "text": [
      "root\n",
      " |-- DEST_COUNTRY_NAME: string (nullable = true)\n",
      " |-- ORIGIN_COUNTRY_NAME: string (nullable = true)\n",
      " |-- NumFlights: integer (nullable = true)\n",
      "\n"
     ]
    }
   ],
   "source": [
    "dfs_flights.printSchema()"
   ]
  },
  {
   "cell_type": "code",
   "execution_count": 6,
   "metadata": {},
   "outputs": [],
   "source": [
    "### Ordenar según la columna count\n",
    "dfs_fligths_sorted = dfs_flights.sort(\"NumFlights\", ascending=False) # no tarda nada porque es una transformación"
   ]
  },
  {
   "cell_type": "code",
   "execution_count": 7,
   "metadata": {},
   "outputs": [
    {
     "name": "stdout",
     "output_type": "stream",
     "text": [
      "+-----------------+-------------------+----------+\n",
      "|DEST_COUNTRY_NAME|ORIGIN_COUNTRY_NAME|NumFlights|\n",
      "+-----------------+-------------------+----------+\n",
      "|    United States|      United States|    370002|\n",
      "|    United States|             Canada|      8483|\n",
      "|           Canada|      United States|      8399|\n",
      "|    United States|             Mexico|      7187|\n",
      "|           Mexico|      United States|      7140|\n",
      "|   United Kingdom|      United States|      2025|\n",
      "|    United States|     United Kingdom|      1970|\n",
      "|            Japan|      United States|      1548|\n",
      "|    United States|              Japan|      1496|\n",
      "|          Germany|      United States|      1468|\n",
      "+-----------------+-------------------+----------+\n",
      "only showing top 10 rows\n",
      "\n"
     ]
    }
   ],
   "source": [
    "dfs_fligths_sorted.show(10) ## al hacerle el show realiza el sort y nos devuelve los 10 primeros"
   ]
  },
  {
   "cell_type": "code",
   "execution_count": 8,
   "metadata": {},
   "outputs": [],
   "source": [
    "### group by\n",
    "count_per_dest = dfs_flights.groupBy(\"DEST_COUNTRY_NAME\").sum()"
   ]
  },
  {
   "cell_type": "code",
   "execution_count": 9,
   "metadata": {},
   "outputs": [
    {
     "name": "stdout",
     "output_type": "stream",
     "text": [
      "+--------------------+---------------+\n",
      "|   DEST_COUNTRY_NAME|sum(NumFlights)|\n",
      "+--------------------+---------------+\n",
      "|            Anguilla|             41|\n",
      "|              Russia|            176|\n",
      "|            Paraguay|             60|\n",
      "|             Senegal|             40|\n",
      "|              Sweden|            118|\n",
      "|            Kiribati|             26|\n",
      "|              Guyana|             64|\n",
      "|         Philippines|            134|\n",
      "|            Djibouti|              1|\n",
      "|            Malaysia|              2|\n",
      "|           Singapore|              3|\n",
      "|                Fiji|             24|\n",
      "|              Turkey|            138|\n",
      "|                Iraq|              1|\n",
      "|             Germany|           1468|\n",
      "|              Jordan|             44|\n",
      "|               Palau|             30|\n",
      "|Turks and Caicos ...|            230|\n",
      "|              France|            935|\n",
      "|              Greece|             30|\n",
      "+--------------------+---------------+\n",
      "only showing top 20 rows\n",
      "\n"
     ]
    }
   ],
   "source": [
    "### Enseña el dataframe count_per_dest\n",
    "count_per_dest.show()"
   ]
  },
  {
   "cell_type": "code",
   "execution_count": 10,
   "metadata": {},
   "outputs": [
    {
     "name": "stdout",
     "output_type": "stream",
     "text": [
      "+--------------------+-------------+\n",
      "|   DEST_COUNTRY_NAME|total_flights|\n",
      "+--------------------+-------------+\n",
      "|            Anguilla|           41|\n",
      "|              Russia|          176|\n",
      "|            Paraguay|           60|\n",
      "|             Senegal|           40|\n",
      "|              Sweden|          118|\n",
      "|            Kiribati|           26|\n",
      "|              Guyana|           64|\n",
      "|         Philippines|          134|\n",
      "|            Djibouti|            1|\n",
      "|            Malaysia|            2|\n",
      "|           Singapore|            3|\n",
      "|                Fiji|           24|\n",
      "|              Turkey|          138|\n",
      "|                Iraq|            1|\n",
      "|             Germany|         1468|\n",
      "|              Jordan|           44|\n",
      "|               Palau|           30|\n",
      "|Turks and Caicos ...|          230|\n",
      "|              France|          935|\n",
      "|              Greece|           30|\n",
      "+--------------------+-------------+\n",
      "only showing top 20 rows\n",
      "\n"
     ]
    }
   ],
   "source": [
    "## Renombra la columna sum(NumFlights)\n",
    "count_per_dest = count_per_dest.withColumnRenamed('sum(NumFlights)', 'total_flights')\n",
    "count_per_dest.show()"
   ]
  },
  {
   "cell_type": "code",
   "execution_count": 11,
   "metadata": {},
   "outputs": [],
   "source": [
    "### Ordena por número de vuelos\n",
    "most_flights = count_per_dest.sort('total_flights', ascending=False)"
   ]
  },
  {
   "cell_type": "code",
   "execution_count": 12,
   "metadata": {},
   "outputs": [
    {
     "name": "stdout",
     "output_type": "stream",
     "text": [
      "+-----------------+-------------+\n",
      "|DEST_COUNTRY_NAME|total_flights|\n",
      "+-----------------+-------------+\n",
      "|    United States|       411352|\n",
      "|           Canada|         8399|\n",
      "|           Mexico|         7140|\n",
      "|   United Kingdom|         2025|\n",
      "|            Japan|         1548|\n",
      "+-----------------+-------------+\n",
      "only showing top 5 rows\n",
      "\n"
     ]
    }
   ],
   "source": [
    "### Top 5\n",
    "most_flights.show(5)"
   ]
  },
  {
   "cell_type": "markdown",
   "metadata": {},
   "source": [
    "### Querying the data with SQL"
   ]
  },
  {
   "cell_type": "code",
   "execution_count": 14,
   "metadata": {},
   "outputs": [],
   "source": [
    "# Create temp table\n",
    "\n",
    "dfs_flights.createOrReplaceTempView(\"flights_2015\")"
   ]
  },
  {
   "cell_type": "code",
   "execution_count": 19,
   "metadata": {},
   "outputs": [],
   "source": [
    "query = \"\"\"\n",
    "SELECT *\n",
    "FROM flights_2015\n",
    "ORDER BY NumFlights DESC\n",
    "LIMIT 10\n",
    "\"\"\""
   ]
  },
  {
   "cell_type": "code",
   "execution_count": 20,
   "metadata": {},
   "outputs": [],
   "source": [
    "query_result = spark.sql(query)"
   ]
  },
  {
   "cell_type": "code",
   "execution_count": 21,
   "metadata": {},
   "outputs": [
    {
     "data": {
      "text/plain": [
       "pyspark.sql.dataframe.DataFrame"
      ]
     },
     "execution_count": 21,
     "metadata": {},
     "output_type": "execute_result"
    }
   ],
   "source": [
    "type(query_result)"
   ]
  },
  {
   "cell_type": "code",
   "execution_count": 22,
   "metadata": {},
   "outputs": [
    {
     "name": "stdout",
     "output_type": "stream",
     "text": [
      "+-----------------+-------------------+----------+\n",
      "|DEST_COUNTRY_NAME|ORIGIN_COUNTRY_NAME|NumFlights|\n",
      "+-----------------+-------------------+----------+\n",
      "|    United States|      United States|    370002|\n",
      "|    United States|             Canada|      8483|\n",
      "|           Canada|      United States|      8399|\n",
      "|    United States|             Mexico|      7187|\n",
      "|           Mexico|      United States|      7140|\n",
      "|   United Kingdom|      United States|      2025|\n",
      "|    United States|     United Kingdom|      1970|\n",
      "|            Japan|      United States|      1548|\n",
      "|    United States|              Japan|      1496|\n",
      "|          Germany|      United States|      1468|\n",
      "+-----------------+-------------------+----------+\n",
      "\n"
     ]
    }
   ],
   "source": [
    "query_result.show()"
   ]
  },
  {
   "cell_type": "code",
   "execution_count": null,
   "metadata": {},
   "outputs": [],
   "source": [
    "# Calcula el total de vuelos en función del destino y saca el destino más frecuente"
   ]
  },
  {
   "cell_type": "markdown",
   "metadata": {},
   "source": [
    "## Funcionalidad dataframes\n",
    "\n",
    "Muchas veces nos encontraremos con que queremos utilizar algua funcion integrada en los dataframes, cómo en pandas.\n",
    "\n",
    "Para poder acceder a estas funciones, tendremos que importarlas de la librería"
   ]
  },
  {
   "cell_type": "code",
   "execution_count": 23,
   "metadata": {},
   "outputs": [],
   "source": [
    "from pyspark.sql.functions import max"
   ]
  },
  {
   "cell_type": "code",
   "execution_count": 25,
   "metadata": {},
   "outputs": [
    {
     "data": {
      "text/plain": [
       "[Row(max(NumFlights)=370002)]"
      ]
     },
     "execution_count": 25,
     "metadata": {},
     "output_type": "execute_result"
    }
   ],
   "source": [
    "spark.sql(\"SELECT max(NumFlights) from flights_2015\").take(1)"
   ]
  },
  {
   "cell_type": "code",
   "execution_count": 26,
   "metadata": {},
   "outputs": [
    {
     "data": {
      "text/plain": [
       "[Row(max(NumFlights)=370002)]"
      ]
     },
     "execution_count": 26,
     "metadata": {},
     "output_type": "execute_result"
    }
   ],
   "source": [
    "dfs_flights.select(max(\"NumFlights\")).take(1)"
   ]
  },
  {
   "cell_type": "markdown",
   "metadata": {},
   "source": [
    "### Intefración con pandas"
   ]
  },
  {
   "cell_type": "code",
   "execution_count": 27,
   "metadata": {},
   "outputs": [],
   "source": [
    "import pandas as pd"
   ]
  },
  {
   "cell_type": "code",
   "execution_count": 28,
   "metadata": {},
   "outputs": [],
   "source": [
    "df = dfs_flights.toPandas()"
   ]
  },
  {
   "cell_type": "code",
   "execution_count": 29,
   "metadata": {},
   "outputs": [
    {
     "data": {
      "text/html": [
       "<div>\n",
       "<table border=\"1\" class=\"dataframe\">\n",
       "  <thead>\n",
       "    <tr style=\"text-align: right;\">\n",
       "      <th></th>\n",
       "      <th>DEST_COUNTRY_NAME</th>\n",
       "      <th>ORIGIN_COUNTRY_NAME</th>\n",
       "      <th>NumFlights</th>\n",
       "    </tr>\n",
       "  </thead>\n",
       "  <tbody>\n",
       "    <tr>\n",
       "      <th>0</th>\n",
       "      <td>United States</td>\n",
       "      <td>Romania</td>\n",
       "      <td>15</td>\n",
       "    </tr>\n",
       "    <tr>\n",
       "      <th>1</th>\n",
       "      <td>United States</td>\n",
       "      <td>Croatia</td>\n",
       "      <td>1</td>\n",
       "    </tr>\n",
       "    <tr>\n",
       "      <th>2</th>\n",
       "      <td>United States</td>\n",
       "      <td>Ireland</td>\n",
       "      <td>344</td>\n",
       "    </tr>\n",
       "    <tr>\n",
       "      <th>3</th>\n",
       "      <td>Egypt</td>\n",
       "      <td>United States</td>\n",
       "      <td>15</td>\n",
       "    </tr>\n",
       "    <tr>\n",
       "      <th>4</th>\n",
       "      <td>United States</td>\n",
       "      <td>India</td>\n",
       "      <td>62</td>\n",
       "    </tr>\n",
       "  </tbody>\n",
       "</table>\n",
       "</div>"
      ],
      "text/plain": [
       "  DEST_COUNTRY_NAME ORIGIN_COUNTRY_NAME  NumFlights\n",
       "0     United States             Romania          15\n",
       "1     United States             Croatia           1\n",
       "2     United States             Ireland         344\n",
       "3             Egypt       United States          15\n",
       "4     United States               India          62"
      ]
     },
     "execution_count": 29,
     "metadata": {},
     "output_type": "execute_result"
    }
   ],
   "source": [
    "df.head()"
   ]
  },
  {
   "cell_type": "code",
   "execution_count": 30,
   "metadata": {},
   "outputs": [
    {
     "ename": "NameError",
     "evalue": "name 'desc' is not defined",
     "output_type": "error",
     "traceback": [
      "\u001b[0;31m---------------------------------------------------------------------------\u001b[0m",
      "\u001b[0;31mNameError\u001b[0m                                 Traceback (most recent call last)",
      "\u001b[0;32m<ipython-input-30-d969d5b09624>\u001b[0m in \u001b[0;36m<module>\u001b[0;34m()\u001b[0m\n\u001b[0;32m----> 1\u001b[0;31m \u001b[0mdf\u001b[0m \u001b[0;34m=\u001b[0m \u001b[0mdfs_flights\u001b[0m\u001b[0;34m.\u001b[0m\u001b[0mgroupBy\u001b[0m\u001b[0;34m(\u001b[0m\u001b[0;34m\"DEST_COUNTRY_NAME\"\u001b[0m\u001b[0;34m)\u001b[0m\u001b[0;34m.\u001b[0m\u001b[0msum\u001b[0m\u001b[0;34m(\u001b[0m\u001b[0;34m\"NumFlights\"\u001b[0m\u001b[0;34m)\u001b[0m           \u001b[0;34m.\u001b[0m\u001b[0mwithColumnRenamed\u001b[0m\u001b[0;34m(\u001b[0m\u001b[0;34m\"sum(NumFlights)\"\u001b[0m\u001b[0;34m,\u001b[0m \u001b[0;34m\"destination_total\"\u001b[0m\u001b[0;34m)\u001b[0m           \u001b[0;34m.\u001b[0m\u001b[0msort\u001b[0m\u001b[0;34m(\u001b[0m\u001b[0mdesc\u001b[0m\u001b[0;34m(\u001b[0m\u001b[0;34m\"destination_total\"\u001b[0m\u001b[0;34m)\u001b[0m\u001b[0;34m)\u001b[0m           \u001b[0;34m.\u001b[0m\u001b[0mlimit\u001b[0m\u001b[0;34m(\u001b[0m\u001b[0;36m10\u001b[0m\u001b[0;34m)\u001b[0m           \u001b[0;34m.\u001b[0m\u001b[0mtoPandas\u001b[0m\u001b[0;34m(\u001b[0m\u001b[0;34m)\u001b[0m\u001b[0;34m\u001b[0m\u001b[0m\n\u001b[0m",
      "\u001b[0;31mNameError\u001b[0m: name 'desc' is not defined"
     ]
    }
   ],
   "source": [
    "df = dfs_flights.groupBy(\"DEST_COUNTRY_NAME\").sum(\"NumFlights\")\\\n",
    "           .withColumnRenamed(\"sum(NumFlights)\", \"destination_total\")\\\n",
    "           .sort(desc(\"destination_total\"))\\\n",
    "           .limit(10)\\\n",
    "           .toPandas()"
   ]
  },
  {
   "cell_type": "code",
   "execution_count": 31,
   "metadata": {},
   "outputs": [],
   "source": [
    "from pyspark.sql.functions import desc\n",
    "\n",
    "df = dfs_flights.groupBy(\"DEST_COUNTRY_NAME\").sum(\"NumFlights\")\\\n",
    "           .withColumnRenamed(\"sum(NumFlights)\", \"destination_total\")\\\n",
    "           .sort(desc(\"destination_total\"))\\\n",
    "           .limit(10)\\\n",
    "           .toPandas()\n"
   ]
  },
  {
   "cell_type": "code",
   "execution_count": 32,
   "metadata": {},
   "outputs": [],
   "source": [
    "%matplotlib inline"
   ]
  },
  {
   "cell_type": "code",
   "execution_count": 33,
   "metadata": {},
   "outputs": [
    {
     "data": {
      "text/plain": [
       "<matplotlib.axes._subplots.AxesSubplot at 0x7fc593f9eba8>"
      ]
     },
     "execution_count": 33,
     "metadata": {},
     "output_type": "execute_result"
    },
    {
     "data": {
      "image/png": "[encoded data removed]",
      "text/plain": [
       "<matplotlib.figure.Figure at 0x7fc593f9e2e8>"
      ]
     },
     "metadata": {},
     "output_type": "display_data"
    }
   ],
   "source": [
    "df.set_index('DEST_COUNTRY_NAME').plot(kind='barh')"
   ]
  },
  {
   "cell_type": "code",
   "execution_count": 34,
   "metadata": {},
   "outputs": [],
   "source": [
    "## from pandas to SparkDataframe\n",
    "\n",
    "df_test = spark.createDataFrame(df)"
   ]
  },
  {
   "cell_type": "code",
   "execution_count": 35,
   "metadata": {},
   "outputs": [],
   "source": [
    "spark.stop()"
   ]
  },
  {
   "cell_type": "markdown",
   "metadata": {},
   "source": [
    "## Ejercicio\n",
    "---\n",
    "\n",
    "Haz un análisis exploratorio del fichero 'data/201508_trip_data.csv' usando spark y plotea los resultados usando las funcionalidades de python"
   ]
  },
  {
   "cell_type": "code",
   "execution_count": null,
   "metadata": {},
   "outputs": [],
   "source": [
    "## importa lo necesario para crear el entorno de spark\n",
    "\n",
    "### Con SparkSession\n",
    "\n",
    "# crear sesión\n"
   ]
  },
  {
   "cell_type": "code",
   "execution_count": null,
   "metadata": {},
   "outputs": [],
   "source": [
    "## carga el fichero 'data/201508_trip_data.csv'\n",
    "path = 'data/201508_trip_data.csv'\n",
    "\n",
    "dfs_bikes = "
   ]
  },
  {
   "cell_type": "code",
   "execution_count": null,
   "metadata": {},
   "outputs": [],
   "source": [
    "# Imprime el esquema y las columnas del dfs_bikes\n",
    "\n"
   ]
  },
  {
   "cell_type": "code",
   "execution_count": null,
   "metadata": {},
   "outputs": [],
   "source": [
    "## Haz una descripción de la columnas Duration del dfs_bikes\n",
    "## En que unidades está la duración ?\n"
   ]
  },
  {
   "cell_type": "code",
   "execution_count": null,
   "metadata": {},
   "outputs": [],
   "source": [
    "## Cual son las 5 estaciones más transitada?\n",
    "\n",
    "most_frequent = "
   ]
  },
  {
   "cell_type": "code",
   "execution_count": null,
   "metadata": {},
   "outputs": [],
   "source": [
    "## Repite el ejercicio anterior usando SQL\n",
    "\n",
    "## Cambia el nombre a la columna para que no tenga espacios\n",
    "dfs_bikes = \n",
    "## Crea una tabla temporal\n",
    "\n",
    "## Escribe una query sql que realice la tarea de antes\n",
    "query = \"\"\"\n",
    "\n",
    "\"\"\"\n",
    "\n",
    "most_frequent_sql = spark.sql(query)"
   ]
  },
  {
   "cell_type": "code",
   "execution_count": null,
   "metadata": {},
   "outputs": [],
   "source": [
    "### Transform it to pandas and plot the result\n"
   ]
  },
  {
   "cell_type": "code",
   "execution_count": null,
   "metadata": {},
   "outputs": [],
   "source": [
    "spark.stop()"
   ]
  }
 ],
 "metadata": {
  "kernelspec": {
   "display_name": "Python 3",
   "language": "python",
   "name": "python3"
  },
  "language_info": {
   "codemirror_mode": {
    "name": "ipython",
    "version": 3
   },
   "file_extension": ".py",
   "mimetype": "text/x-python",
   "name": "python",
   "nbconvert_exporter": "python",
   "pygments_lexer": "ipython3",
   "version": "3.6.3"
  }
 },
 "nbformat": 4,
 "nbformat_minor": 2
}
